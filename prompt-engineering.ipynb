{
 "cells": [
  {
   "cell_type": "code",
   "execution_count": null,
   "metadata": {},
   "outputs": [],
   "source": [
    "import polars as pl\n",
    "import openai\n",
    "from pydantic import BaseModel\n"
   ]
  },
  {
   "cell_type": "code",
   "execution_count": null,
   "metadata": {},
   "outputs": [],
   "source": [
    "client = openai.OpenAI(api_key=os.getenv(\"OPENAI_API_KEY\"))"
   ]
  },
  {
   "cell_type": "markdown",
   "metadata": {},
   "source": [
    "## Plan\n",
    "\n",
    "Write code for the students that splits out the top 100 rows. Give them a really simple prompt and measure the accuracy against the data I created. \n",
    "\n",
    "Then ask them to improve the prompt and measure the accuracy. Once they feel good about it, do all 1000 and measure the accuracy. \n",
    "\n",
    "How much did it cost to test those? \n",
    "\n",
    "Make a substantive change to the structure. Some ideas: \n",
    "\n",
    "1. Add a better system prompt.\n",
    "1. Give the LLM a list of categories.\n",
    "1. Add \"Chain of Thought\" type reasoning. \n",
    "\n",
    "Again do 100 and measure the accuracy. Then do all 1000 and report the overall accuracy. "
   ]
  },
  {
   "cell_type": "markdown",
   "metadata": {},
   "source": []
  }
 ],
 "metadata": {
  "kernelspec": {
   "display_name": "base",
   "language": "python",
   "name": "python3"
  },
  "language_info": {
   "name": "python",
   "version": "3.12.4"
  }
 },
 "nbformat": 4,
 "nbformat_minor": 2
}
