{
 "cells": [
  {
   "cell_type": "code",
   "execution_count": 4,
   "metadata": {},
   "outputs": [],
   "source": [
    "import polars as pl\n",
    "import openai\n",
    "from pydantic import BaseModel\n",
    "import os\n"
   ]
  },
  {
   "cell_type": "markdown",
   "metadata": {},
   "source": [
    "This next cell creates an Open AI client. GitHub (wisely) prevents one from putting API keys in public repositories now, so I'm using an environment variable to store my API key. ChatGPT should be able to help you create an environment variable on your system. On MacOS you can edit your shell configuration file (`.zshrc` on my machine). On a windows machine you'll use the environment variable editor application. The API key will look something like this fake one: `sk-VPAJxeOHF7YLCLweC0fFT18lbkFRPP5Yux15Rs6FTfrf6Mxj`. "
   ]
  },
  {
   "cell_type": "code",
   "execution_count": 5,
   "metadata": {},
   "outputs": [],
   "source": [
    "client = openai.OpenAI(api_key=os.getenv(\"OPENAI_API_KEY\"))"
   ]
  },
  {
   "cell_type": "markdown",
   "metadata": {},
   "source": [
    "Now let's read in the training data into a polars DF."
   ]
  },
  {
   "cell_type": "code",
   "execution_count": 6,
   "metadata": {},
   "outputs": [
    {
     "ename": "ComputeError",
     "evalue": "found more fields than defined in 'Schema'\n\nConsider setting 'truncate_ragged_lines=True'.",
     "output_type": "error",
     "traceback": [
      "\u001b[0;31m---------------------------------------------------------------------------\u001b[0m",
      "\u001b[0;31mComputeError\u001b[0m                              Traceback (most recent call last)",
      "Cell \u001b[0;32mIn[6], line 1\u001b[0m\n\u001b[0;32m----> 1\u001b[0m df \u001b[38;5;241m=\u001b[39m pl\u001b[38;5;241m.\u001b[39mread_csv(\u001b[38;5;124m\"\u001b[39m\u001b[38;5;124mdata/training-data.txt\u001b[39m\u001b[38;5;124m\"\u001b[39m)\n\u001b[1;32m      3\u001b[0m \u001b[38;5;28mprint\u001b[39m(df)\n",
      "File \u001b[0;32m/opt/anaconda3/lib/python3.11/site-packages/polars/_utils/deprecation.py:134\u001b[0m, in \u001b[0;36mdeprecate_renamed_parameter.<locals>.decorate.<locals>.wrapper\u001b[0;34m(*args, **kwargs)\u001b[0m\n\u001b[1;32m    129\u001b[0m \u001b[38;5;129m@wraps\u001b[39m(function)\n\u001b[1;32m    130\u001b[0m \u001b[38;5;28;01mdef\u001b[39;00m \u001b[38;5;21mwrapper\u001b[39m(\u001b[38;5;241m*\u001b[39margs: P\u001b[38;5;241m.\u001b[39margs, \u001b[38;5;241m*\u001b[39m\u001b[38;5;241m*\u001b[39mkwargs: P\u001b[38;5;241m.\u001b[39mkwargs) \u001b[38;5;241m-\u001b[39m\u001b[38;5;241m>\u001b[39m T:\n\u001b[1;32m    131\u001b[0m     _rename_keyword_argument(\n\u001b[1;32m    132\u001b[0m         old_name, new_name, kwargs, function\u001b[38;5;241m.\u001b[39m\u001b[38;5;18m__name__\u001b[39m, version\n\u001b[1;32m    133\u001b[0m     )\n\u001b[0;32m--> 134\u001b[0m     \u001b[38;5;28;01mreturn\u001b[39;00m function(\u001b[38;5;241m*\u001b[39margs, \u001b[38;5;241m*\u001b[39m\u001b[38;5;241m*\u001b[39mkwargs)\n",
      "File \u001b[0;32m/opt/anaconda3/lib/python3.11/site-packages/polars/_utils/deprecation.py:134\u001b[0m, in \u001b[0;36mdeprecate_renamed_parameter.<locals>.decorate.<locals>.wrapper\u001b[0;34m(*args, **kwargs)\u001b[0m\n\u001b[1;32m    129\u001b[0m \u001b[38;5;129m@wraps\u001b[39m(function)\n\u001b[1;32m    130\u001b[0m \u001b[38;5;28;01mdef\u001b[39;00m \u001b[38;5;21mwrapper\u001b[39m(\u001b[38;5;241m*\u001b[39margs: P\u001b[38;5;241m.\u001b[39margs, \u001b[38;5;241m*\u001b[39m\u001b[38;5;241m*\u001b[39mkwargs: P\u001b[38;5;241m.\u001b[39mkwargs) \u001b[38;5;241m-\u001b[39m\u001b[38;5;241m>\u001b[39m T:\n\u001b[1;32m    131\u001b[0m     _rename_keyword_argument(\n\u001b[1;32m    132\u001b[0m         old_name, new_name, kwargs, function\u001b[38;5;241m.\u001b[39m\u001b[38;5;18m__name__\u001b[39m, version\n\u001b[1;32m    133\u001b[0m     )\n\u001b[0;32m--> 134\u001b[0m     \u001b[38;5;28;01mreturn\u001b[39;00m function(\u001b[38;5;241m*\u001b[39margs, \u001b[38;5;241m*\u001b[39m\u001b[38;5;241m*\u001b[39mkwargs)\n",
      "File \u001b[0;32m/opt/anaconda3/lib/python3.11/site-packages/polars/_utils/deprecation.py:134\u001b[0m, in \u001b[0;36mdeprecate_renamed_parameter.<locals>.decorate.<locals>.wrapper\u001b[0;34m(*args, **kwargs)\u001b[0m\n\u001b[1;32m    129\u001b[0m \u001b[38;5;129m@wraps\u001b[39m(function)\n\u001b[1;32m    130\u001b[0m \u001b[38;5;28;01mdef\u001b[39;00m \u001b[38;5;21mwrapper\u001b[39m(\u001b[38;5;241m*\u001b[39margs: P\u001b[38;5;241m.\u001b[39margs, \u001b[38;5;241m*\u001b[39m\u001b[38;5;241m*\u001b[39mkwargs: P\u001b[38;5;241m.\u001b[39mkwargs) \u001b[38;5;241m-\u001b[39m\u001b[38;5;241m>\u001b[39m T:\n\u001b[1;32m    131\u001b[0m     _rename_keyword_argument(\n\u001b[1;32m    132\u001b[0m         old_name, new_name, kwargs, function\u001b[38;5;241m.\u001b[39m\u001b[38;5;18m__name__\u001b[39m, version\n\u001b[1;32m    133\u001b[0m     )\n\u001b[0;32m--> 134\u001b[0m     \u001b[38;5;28;01mreturn\u001b[39;00m function(\u001b[38;5;241m*\u001b[39margs, \u001b[38;5;241m*\u001b[39m\u001b[38;5;241m*\u001b[39mkwargs)\n",
      "File \u001b[0;32m/opt/anaconda3/lib/python3.11/site-packages/polars/io/csv/functions.py:414\u001b[0m, in \u001b[0;36mread_csv\u001b[0;34m(source, has_header, columns, new_columns, separator, comment_prefix, quote_char, skip_rows, dtypes, schema, null_values, missing_utf8_is_empty_string, ignore_errors, try_parse_dates, n_threads, infer_schema_length, batch_size, n_rows, encoding, low_memory, rechunk, use_pyarrow, storage_options, skip_rows_after_header, row_index_name, row_index_offset, sample_size, eol_char, raise_if_empty, truncate_ragged_lines)\u001b[0m\n\u001b[1;32m    402\u001b[0m         dtypes \u001b[38;5;241m=\u001b[39m {\n\u001b[1;32m    403\u001b[0m             new_to_current\u001b[38;5;241m.\u001b[39mget(column_name, column_name): column_dtype\n\u001b[1;32m    404\u001b[0m             \u001b[38;5;28;01mfor\u001b[39;00m column_name, column_dtype \u001b[38;5;129;01min\u001b[39;00m dtypes\u001b[38;5;241m.\u001b[39mitems()\n\u001b[1;32m    405\u001b[0m         }\n\u001b[1;32m    407\u001b[0m \u001b[38;5;28;01mwith\u001b[39;00m prepare_file_arg(\n\u001b[1;32m    408\u001b[0m     source,\n\u001b[1;32m    409\u001b[0m     encoding\u001b[38;5;241m=\u001b[39mencoding,\n\u001b[0;32m   (...)\u001b[0m\n\u001b[1;32m    412\u001b[0m     storage_options\u001b[38;5;241m=\u001b[39mstorage_options,\n\u001b[1;32m    413\u001b[0m ) \u001b[38;5;28;01mas\u001b[39;00m data:\n\u001b[0;32m--> 414\u001b[0m     df \u001b[38;5;241m=\u001b[39m _read_csv_impl(\n\u001b[1;32m    415\u001b[0m         data,\n\u001b[1;32m    416\u001b[0m         has_header\u001b[38;5;241m=\u001b[39mhas_header,\n\u001b[1;32m    417\u001b[0m         columns\u001b[38;5;241m=\u001b[39mcolumns \u001b[38;5;28;01mif\u001b[39;00m columns \u001b[38;5;28;01melse\u001b[39;00m projection,\n\u001b[1;32m    418\u001b[0m         separator\u001b[38;5;241m=\u001b[39mseparator,\n\u001b[1;32m    419\u001b[0m         comment_prefix\u001b[38;5;241m=\u001b[39mcomment_prefix,\n\u001b[1;32m    420\u001b[0m         quote_char\u001b[38;5;241m=\u001b[39mquote_char,\n\u001b[1;32m    421\u001b[0m         skip_rows\u001b[38;5;241m=\u001b[39mskip_rows,\n\u001b[1;32m    422\u001b[0m         dtypes\u001b[38;5;241m=\u001b[39mdtypes,\n\u001b[1;32m    423\u001b[0m         schema\u001b[38;5;241m=\u001b[39mschema,\n\u001b[1;32m    424\u001b[0m         null_values\u001b[38;5;241m=\u001b[39mnull_values,\n\u001b[1;32m    425\u001b[0m         missing_utf8_is_empty_string\u001b[38;5;241m=\u001b[39mmissing_utf8_is_empty_string,\n\u001b[1;32m    426\u001b[0m         ignore_errors\u001b[38;5;241m=\u001b[39mignore_errors,\n\u001b[1;32m    427\u001b[0m         try_parse_dates\u001b[38;5;241m=\u001b[39mtry_parse_dates,\n\u001b[1;32m    428\u001b[0m         n_threads\u001b[38;5;241m=\u001b[39mn_threads,\n\u001b[1;32m    429\u001b[0m         infer_schema_length\u001b[38;5;241m=\u001b[39minfer_schema_length,\n\u001b[1;32m    430\u001b[0m         batch_size\u001b[38;5;241m=\u001b[39mbatch_size,\n\u001b[1;32m    431\u001b[0m         n_rows\u001b[38;5;241m=\u001b[39mn_rows,\n\u001b[1;32m    432\u001b[0m         encoding\u001b[38;5;241m=\u001b[39mencoding \u001b[38;5;28;01mif\u001b[39;00m encoding \u001b[38;5;241m==\u001b[39m \u001b[38;5;124m\"\u001b[39m\u001b[38;5;124mutf8-lossy\u001b[39m\u001b[38;5;124m\"\u001b[39m \u001b[38;5;28;01melse\u001b[39;00m \u001b[38;5;124m\"\u001b[39m\u001b[38;5;124mutf8\u001b[39m\u001b[38;5;124m\"\u001b[39m,\n\u001b[1;32m    433\u001b[0m         low_memory\u001b[38;5;241m=\u001b[39mlow_memory,\n\u001b[1;32m    434\u001b[0m         rechunk\u001b[38;5;241m=\u001b[39mrechunk,\n\u001b[1;32m    435\u001b[0m         skip_rows_after_header\u001b[38;5;241m=\u001b[39mskip_rows_after_header,\n\u001b[1;32m    436\u001b[0m         row_index_name\u001b[38;5;241m=\u001b[39mrow_index_name,\n\u001b[1;32m    437\u001b[0m         row_index_offset\u001b[38;5;241m=\u001b[39mrow_index_offset,\n\u001b[1;32m    438\u001b[0m         sample_size\u001b[38;5;241m=\u001b[39msample_size,\n\u001b[1;32m    439\u001b[0m         eol_char\u001b[38;5;241m=\u001b[39meol_char,\n\u001b[1;32m    440\u001b[0m         raise_if_empty\u001b[38;5;241m=\u001b[39mraise_if_empty,\n\u001b[1;32m    441\u001b[0m         truncate_ragged_lines\u001b[38;5;241m=\u001b[39mtruncate_ragged_lines,\n\u001b[1;32m    442\u001b[0m     )\n\u001b[1;32m    444\u001b[0m \u001b[38;5;28;01mif\u001b[39;00m new_columns:\n\u001b[1;32m    445\u001b[0m     \u001b[38;5;28;01mreturn\u001b[39;00m _update_columns(df, new_columns)\n",
      "File \u001b[0;32m/opt/anaconda3/lib/python3.11/site-packages/polars/io/csv/functions.py:554\u001b[0m, in \u001b[0;36m_read_csv_impl\u001b[0;34m(source, has_header, columns, separator, comment_prefix, quote_char, skip_rows, dtypes, schema, null_values, missing_utf8_is_empty_string, ignore_errors, try_parse_dates, n_threads, infer_schema_length, batch_size, n_rows, encoding, low_memory, rechunk, skip_rows_after_header, row_index_name, row_index_offset, sample_size, eol_char, raise_if_empty, truncate_ragged_lines)\u001b[0m\n\u001b[1;32m    550\u001b[0m         \u001b[38;5;28;01mraise\u001b[39;00m \u001b[38;5;167;01mValueError\u001b[39;00m(msg)\n\u001b[1;32m    552\u001b[0m projection, columns \u001b[38;5;241m=\u001b[39m parse_columns_arg(columns)\n\u001b[0;32m--> 554\u001b[0m pydf \u001b[38;5;241m=\u001b[39m PyDataFrame\u001b[38;5;241m.\u001b[39mread_csv(\n\u001b[1;32m    555\u001b[0m     source,\n\u001b[1;32m    556\u001b[0m     infer_schema_length,\n\u001b[1;32m    557\u001b[0m     batch_size,\n\u001b[1;32m    558\u001b[0m     has_header,\n\u001b[1;32m    559\u001b[0m     ignore_errors,\n\u001b[1;32m    560\u001b[0m     n_rows,\n\u001b[1;32m    561\u001b[0m     skip_rows,\n\u001b[1;32m    562\u001b[0m     projection,\n\u001b[1;32m    563\u001b[0m     separator,\n\u001b[1;32m    564\u001b[0m     rechunk,\n\u001b[1;32m    565\u001b[0m     columns,\n\u001b[1;32m    566\u001b[0m     encoding,\n\u001b[1;32m    567\u001b[0m     n_threads,\n\u001b[1;32m    568\u001b[0m     path,\n\u001b[1;32m    569\u001b[0m     dtype_list,\n\u001b[1;32m    570\u001b[0m     dtype_slice,\n\u001b[1;32m    571\u001b[0m     low_memory,\n\u001b[1;32m    572\u001b[0m     comment_prefix,\n\u001b[1;32m    573\u001b[0m     quote_char,\n\u001b[1;32m    574\u001b[0m     processed_null_values,\n\u001b[1;32m    575\u001b[0m     missing_utf8_is_empty_string,\n\u001b[1;32m    576\u001b[0m     try_parse_dates,\n\u001b[1;32m    577\u001b[0m     skip_rows_after_header,\n\u001b[1;32m    578\u001b[0m     parse_row_index_args(row_index_name, row_index_offset),\n\u001b[1;32m    579\u001b[0m     sample_size\u001b[38;5;241m=\u001b[39msample_size,\n\u001b[1;32m    580\u001b[0m     eol_char\u001b[38;5;241m=\u001b[39meol_char,\n\u001b[1;32m    581\u001b[0m     raise_if_empty\u001b[38;5;241m=\u001b[39mraise_if_empty,\n\u001b[1;32m    582\u001b[0m     truncate_ragged_lines\u001b[38;5;241m=\u001b[39mtruncate_ragged_lines,\n\u001b[1;32m    583\u001b[0m     schema\u001b[38;5;241m=\u001b[39mschema,\n\u001b[1;32m    584\u001b[0m )\n\u001b[1;32m    585\u001b[0m \u001b[38;5;28;01mreturn\u001b[39;00m wrap_df(pydf)\n",
      "\u001b[0;31mComputeError\u001b[0m: found more fields than defined in 'Schema'\n\nConsider setting 'truncate_ragged_lines=True'."
     ]
    }
   ],
   "source": [
    "df = pl.read_csv(\"data/training-data.txt\")\n",
    "\n",
    "print(df)"
   ]
  },
  {
   "cell_type": "markdown",
   "metadata": {},
   "source": [
    "## Plan\n",
    "\n",
    "Write code for the students that splits out the top 100 rows. Give them a really simple prompt and measure the accuracy against the data I created. \n",
    "\n",
    "Then ask them to improve the prompt and measure the accuracy. Once they feel good about it, do all 1000 and measure the accuracy. \n",
    "\n",
    "How much did it cost to test those? \n",
    "\n",
    "Make a substantive change to the structure. Some ideas: \n",
    "\n",
    "1. Add a better system prompt.\n",
    "1. Give the LLM a list of categories.\n",
    "1. Add \"Chain of Thought\" type reasoning. \n",
    "\n",
    "Again do 100 and measure the accuracy. Then do all 1000 and report the overall accuracy. "
   ]
  },
  {
   "cell_type": "markdown",
   "metadata": {},
   "source": []
  }
 ],
 "metadata": {
  "kernelspec": {
   "display_name": "base",
   "language": "python",
   "name": "python3"
  },
  "language_info": {
   "codemirror_mode": {
    "name": "ipython",
    "version": 3
   },
   "file_extension": ".py",
   "mimetype": "text/x-python",
   "name": "python",
   "nbconvert_exporter": "python",
   "pygments_lexer": "ipython3",
   "version": "3.11.7"
  }
 },
 "nbformat": 4,
 "nbformat_minor": 2
}
